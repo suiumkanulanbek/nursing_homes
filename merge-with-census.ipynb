{
 "cells": [
  {
   "cell_type": "markdown",
   "metadata": {},
   "source": [
    "# Notebook Title"
   ]
  },
  {
   "cell_type": "markdown",
   "metadata": {},
   "source": [
    "## Setup Python and R environment\n",
    "you can ignore this section"
   ]
  },
  {
   "cell_type": "code",
   "execution_count": 1,
   "metadata": {},
   "outputs": [],
   "source": [
    "%load_ext rpy2.ipython\n",
    "%load_ext autoreload\n",
    "%autoreload 2\n",
    "\n",
    "%matplotlib inline  \n",
    "from matplotlib import rcParams\n",
    "rcParams['figure.figsize'] = (16, 100)\n",
    "\n",
    "import warnings\n",
    "from rpy2.rinterface import RRuntimeWarning\n",
    "warnings.filterwarnings(\"ignore\") # Ignore all warnings\n",
    "# warnings.filterwarnings(\"ignore\", category=RRuntimeWarning) # Show some warnings\n",
    "\n",
    "import pandas as pd\n",
    "import numpy as np\n",
    "import matplotlib.pyplot as plt\n",
    "from IPython.display import display, HTML"
   ]
  },
  {
   "cell_type": "code",
   "execution_count": 2,
   "metadata": {},
   "outputs": [
    {
     "data": {
      "application/javascript": [
       "// Disable auto-scrolling\n",
       "IPython.OutputArea.prototype._should_scroll = function(lines) {\n",
       "    return false;\n",
       "}\n"
      ],
      "text/plain": [
       "<IPython.core.display.Javascript object>"
      ]
     },
     "metadata": {},
     "output_type": "display_data"
    }
   ],
   "source": [
    "%%javascript\n",
    "// Disable auto-scrolling\n",
    "IPython.OutputArea.prototype._should_scroll = function(lines) {\n",
    "    return false;\n",
    "}"
   ]
  },
  {
   "cell_type": "code",
   "execution_count": 3,
   "metadata": {},
   "outputs": [
    {
     "name": "stdout",
     "output_type": "stream",
     "text": [
      "── Attaching core tidyverse packages ──────────────────────── tidyverse 2.0.0 ──\n",
      "✔ dplyr     1.1.4     ✔ readr     2.1.5\n",
      "✔ forcats   1.0.0     ✔ stringr   1.5.1\n",
      "✔ ggplot2   3.4.4     ✔ tibble    3.2.1\n",
      "✔ lubridate 1.9.3     ✔ tidyr     1.3.0\n",
      "✔ purrr     1.0.2     \n",
      "── Conflicts ────────────────────────────────────────── tidyverse_conflicts() ──\n",
      "✖ dplyr::filter() masks stats::filter()\n",
      "✖ dplyr::lag()    masks stats::lag()\n",
      "ℹ Use the conflicted package (<http://conflicted.r-lib.org/>) to force all conflicts to become errors\n"
     ]
    },
    {
     "data": {
      "text/plain": [
       "Loading required package: tidyverse\n"
      ]
     },
     "metadata": {},
     "output_type": "display_data"
    }
   ],
   "source": [
    "%%R\n",
    "\n",
    "# My commonly used R imports\n",
    "\n",
    "require('tidyverse')"
   ]
  },
  {
   "cell_type": "markdown",
   "metadata": {},
   "source": [
    "## Load & Clean Data\n",
    "\n",
    "👉 Load the data along with the census connectors below (the output of the `connect-to-census.ipynb` notebook) and do any cleanup you'd like to do."
   ]
  },
  {
   "cell_type": "code",
   "execution_count": null,
   "metadata": {},
   "outputs": [],
   "source": []
  },
  {
   "cell_type": "code",
   "execution_count": null,
   "metadata": {},
   "outputs": [],
   "source": []
  },
  {
   "cell_type": "markdown",
   "metadata": {},
   "source": [
    "## 👉 Grab Census Data"
   ]
  },
  {
   "cell_type": "markdown",
   "metadata": {},
   "source": [
    "1. loading the Census API key"
   ]
  },
  {
   "cell_type": "code",
   "execution_count": 4,
   "metadata": {},
   "outputs": [
    {
     "data": {
      "text/plain": [
       "True"
      ]
     },
     "execution_count": 4,
     "metadata": {},
     "output_type": "execute_result"
    }
   ],
   "source": [
    "import dotenv\n",
    "\n",
    "# Load the environment variables\n",
    "# (loads CENSUS_API_KEY from .env)\n",
    "dotenv.load_dotenv()\n"
   ]
  },
  {
   "cell_type": "code",
   "execution_count": 5,
   "metadata": {},
   "outputs": [
    {
     "data": {
      "text/plain": [
       "Loading required package: tidycensus\n",
       "To install your API key for use in future sessions, run this function with `install = TRUE`.\n"
      ]
     },
     "metadata": {},
     "output_type": "display_data"
    }
   ],
   "source": [
    "%%R \n",
    "\n",
    "require('tidycensus')\n",
    "\n",
    "# because it an environment variable, we don't have to \n",
    "# explicitly pass this string to R, it is readable here\n",
    "# in this R cell.\n",
    "census_api_key(Sys.getenv(\"CENSUS_API_KEY\"))"
   ]
  },
  {
   "cell_type": "markdown",
   "metadata": {},
   "source": [
    "2. Decide which Census variables you want\n",
    "\n",
    "    Use <https://censusreporter.org/> to figure out which tables you want. (if censusreporter is down, check out the code in the cell below)\n",
    "\n",
    "    -   Scroll to the bottom of the page to see the tables.\n",
    "    -   If you already know the table ID, stick that in the \"Explore\" section to learn more about that table.\n",
    "\n",
    "    By default this code loads (B01003_001) which we found in censusreporter here: https://censusreporter.org/tables/B01003/\n",
    "\n",
    "    - find some other variables that you're also interested in\n",
    "    - don't forget to pick a geography like \"tract\", \"county\" or \"block group\". here is the list of [all geographies](https://walker-data.com/tidycensus/articles/basic-usage.html#geography-in-tidycensus\n",
    "    ).\n"
   ]
  },
  {
   "cell_type": "code",
   "execution_count": 6,
   "metadata": {},
   "outputs": [
    {
     "name": "stdout",
     "output_type": "stream",
     "text": [
      "# A tibble: 46 × 3\n",
      "   name         label                                                    concept\n",
      "   <chr>        <chr>                                                    <chr>  \n",
      " 1 B06011PR_001 Estimate!!Median income in the past 12 months --!!Total: MEDIAN…\n",
      " 2 B06011PR_002 Estimate!!Median income in the past 12 months --!!Total… MEDIAN…\n",
      " 3 B06011PR_003 Estimate!!Median income in the past 12 months --!!Total… MEDIAN…\n",
      " 4 B06011PR_004 Estimate!!Median income in the past 12 months --!!Total… MEDIAN…\n",
      " 5 B06011PR_005 Estimate!!Median income in the past 12 months --!!Total… MEDIAN…\n",
      " 6 B06011_001   Estimate!!Median income in the past 12 months --!!Total: MEDIAN…\n",
      " 7 B06011_002   Estimate!!Median income in the past 12 months --!!Total… MEDIAN…\n",
      " 8 B06011_003   Estimate!!Median income in the past 12 months --!!Total… MEDIAN…\n",
      " 9 B06011_004   Estimate!!Median income in the past 12 months --!!Total… MEDIAN…\n",
      "10 B06011_005   Estimate!!Median income in the past 12 months --!!Total… MEDIAN…\n",
      "11 B07011PR_001 Estimate!!Median income in the past 12 months --!!Total: MEDIAN…\n",
      "12 B07011PR_002 Estimate!!Median income in the past 12 months --!!Total… MEDIAN…\n",
      "13 B07011PR_003 Estimate!!Median income in the past 12 months --!!Total… MEDIAN…\n",
      "14 B07011PR_004 Estimate!!Median income in the past 12 months --!!Total… MEDIAN…\n",
      "15 B07011PR_005 Estimate!!Median income in the past 12 months --!!Total… MEDIAN…\n",
      "16 B07011PR_006 Estimate!!Median income in the past 12 months --!!Total… MEDIAN…\n",
      "17 B07011_001   Estimate!!Median income in the past 12 months --!!Total: MEDIAN…\n",
      "18 B07011_002   Estimate!!Median income in the past 12 months --!!Total… MEDIAN…\n",
      "19 B07011_003   Estimate!!Median income in the past 12 months --!!Total… MEDIAN…\n",
      "20 B07011_004   Estimate!!Median income in the past 12 months --!!Total… MEDIAN…\n",
      "# ℹ 26 more rows\n",
      "# ℹ Use `print(n = ...)` to see more rows\n"
     ]
    }
   ],
   "source": [
    "%%R \n",
    "\n",
    "# Finding the Census Varaibles for the ACS 5 year survey\n",
    "# Generall you'd do this in CensusReporter, but since it's down sometimes, here it is using tidycensus's load_variables function\n",
    "\n",
    "# get every single variable in the ACS5\n",
    "all_census_vars <- load_variables(2021, \"acs5\", cache = TRUE) \n",
    "\n",
    "filtered_census_vars <- all_census_vars %>% \n",
    "    filter(grepl(\"median income\", label, ignore.case = TRUE))   # filter to those containing \"median income\"\n",
    "    \n",
    "# write to CSV so we can view it in python\n",
    "filtered_census_vars %>% \n",
    "    write_csv(\"filtered_census_vars.csv\")\n",
    "\n",
    "# show the first few rows\n",
    "filtered_census_vars %>%\n",
    "    select(-geography) %>% # remove the geography column\n",
    "    print(n = 20) # print the first 20 rows"
   ]
  },
  {
   "cell_type": "code",
   "execution_count": 7,
   "metadata": {},
   "outputs": [
    {
     "name": "stdout",
     "output_type": "stream",
     "text": [
      "  |======================================================================| 100%\n",
      "Simple feature collection with 4654 features and 5 fields (with 2 geometries empty)\n",
      "Geometry type: MULTIPOLYGON\n",
      "Dimension:     XY\n",
      "Bounding box:  xmin: -74.25609 ymin: 40.4961 xmax: -73.70036 ymax: 40.91771\n",
      "Geodetic CRS:  NAD83\n",
      "First 10 features:\n",
      "         GEOID                                       NAME   variable estimate\n",
      "1  36081014700  Census Tract 147, Queens County, New York population     2863\n",
      "2  36081014700  Census Tract 147, Queens County, New York    med_inc    71815\n",
      "3  36047058400   Census Tract 584, Kings County, New York population     3655\n",
      "4  36047058400   Census Tract 584, Kings County, New York    med_inc    67315\n",
      "5  36061006900 Census Tract 69, New York County, New York population     2450\n",
      "6  36061006900 Census Tract 69, New York County, New York    med_inc   237500\n",
      "7  36047073000   Census Tract 730, Kings County, New York population     2676\n",
      "8  36047073000   Census Tract 730, Kings County, New York    med_inc   117857\n",
      "9  36047100400  Census Tract 1004, Kings County, New York population     3004\n",
      "10 36047100400  Census Tract 1004, Kings County, New York    med_inc    76207\n",
      "     moe                       geometry\n",
      "1    513 MULTIPOLYGON (((-73.9137 40...\n",
      "2  18034 MULTIPOLYGON (((-73.9137 40...\n",
      "3    529 MULTIPOLYGON (((-73.96103 4...\n",
      "4  10294 MULTIPOLYGON (((-73.96103 4...\n",
      "5    372 MULTIPOLYGON (((-74.02064 4...\n",
      "6  65948 MULTIPOLYGON (((-74.02064 4...\n",
      "7    534 MULTIPOLYGON (((-73.93345 4...\n",
      "8  22319 MULTIPOLYGON (((-73.93345 4...\n",
      "9    473 MULTIPOLYGON (((-73.90735 4...\n",
      "10 13504 MULTIPOLYGON (((-73.90735 4...\n"
     ]
    },
    {
     "data": {
      "text/plain": [
       "Getting data from the 2017-2021 5-year ACS\n",
       "Downloading feature geometry from the Census website.  To cache shapefiles for use in future sessions, set `options(tigris_use_cache = TRUE)`.\n",
       "Using FIPS code '36' for state 'NY'\n",
       "Using FIPS code '061' for 'New York County'\n",
       "Using FIPS code '047' for 'Kings County'\n",
       "Using FIPS code '081' for 'Queens County'\n",
       "Using FIPS code '005' for 'Bronx County'\n",
       "Using FIPS code '085' for 'Richmond County'\n"
      ]
     },
     "metadata": {},
     "output_type": "display_data"
    }
   ],
   "source": [
    "%%R \n",
    "# the variable B01003_001E was selectd from the census table \n",
    "# for population, which we found in censusreporter here:\n",
    "# https://censusreporter.org/tables/B01003/\n",
    "\n",
    "# in the table below, pick the geography, the variables, and the survey you want to pull from\n",
    "# see the possible values here https://walker-data.com/tidycensus/articles/basic-usage.html\n",
    "\n",
    "# Get variable from ACS\n",
    "nyc_census_data <- get_acs(geography = \"tract\", \n",
    "                      state='NY',\n",
    "                      county = c(\"New York\", \"Kings\", \"Queens\", \"Bronx\", \"Richmond\"),\n",
    "                      variables = c(\n",
    "                        population=\"B01003_001\",\n",
    "                        med_inc=\"B19013_001\"\n",
    "                      ), \n",
    "                      year = 2021,\n",
    "                      survey=\"acs5\",\n",
    "                      geometry=T)\n",
    "\n",
    "nyc_census_data"
   ]
  },
  {
   "cell_type": "code",
   "execution_count": null,
   "metadata": {},
   "outputs": [],
   "source": []
  },
  {
   "cell_type": "markdown",
   "metadata": {},
   "source": [
    "## 👉 Merge it with your data\n",
    "\n",
    "hint...`tidycensus` provides you data in long format you may need to pivot the census data from long to wide format before merging it with your data"
   ]
  },
  {
   "cell_type": "code",
   "execution_count": null,
   "metadata": {},
   "outputs": [],
   "source": []
  },
  {
   "cell_type": "code",
   "execution_count": null,
   "metadata": {},
   "outputs": [],
   "source": []
  }
 ],
 "metadata": {
  "kernelspec": {
   "display_name": "Python 3 (ipykernel)",
   "language": "python",
   "name": "python3"
  },
  "language_info": {
   "codemirror_mode": {
    "name": "ipython",
    "version": 3
   },
   "file_extension": ".py",
   "mimetype": "text/x-python",
   "name": "python",
   "nbconvert_exporter": "python",
   "pygments_lexer": "ipython3",
   "version": "3.11.8"
  }
 },
 "nbformat": 4,
 "nbformat_minor": 4
}
